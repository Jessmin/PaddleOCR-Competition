{
 "cells": [
  {
   "cell_type": "code",
   "execution_count": 27,
   "id": "2df90890",
   "metadata": {},
   "outputs": [],
   "source": [
    "#准备数据集\n",
    "#下载数据集并解压\n",
    "import glob\n",
    "import json\n",
    "import os\n",
    "from sklearn.model_selection import train_test_split\n",
    "base_dir = '/home/zhaohj/Documents/dataset/Kaggle/AIWIN/OCR2021/2021A_T1_Task1_数据集/训练集/'\n",
    "sub_dirs = ['amount','date']\n",
    "out_f = open('/home/zhaohj/Documents/dataset/Kaggle/AIWIN/OCR2021/2021A_T1_Task1_数据集/训练集/label.txt','w')\n",
    "for sub_dir in sub_dirs:\n",
    "    json_path = os.path.join(base_dir,sub_dir,'gt.json')\n",
    "    with open(json_path,'r') as f:\n",
    "        data = json.loads(f.read().replace(',\\n}','}'))\n",
    "        for k in data.keys():\n",
    "            line = f'./{sub_dir}/images/{k}\\t{data[k]}\\n'\n",
    "            out_f.write(line)\n",
    "out_f.close()"
   ]
  }
 ],
 "metadata": {
  "kernelspec": {
   "display_name": "Python 3",
   "language": "python",
   "name": "python3"
  },
  "language_info": {
   "codemirror_mode": {
    "name": "ipython",
    "version": 3
   },
   "file_extension": ".py",
   "mimetype": "text/x-python",
   "name": "python",
   "nbconvert_exporter": "python",
   "pygments_lexer": "ipython3",
   "version": "3.9.1"
  }
 },
 "nbformat": 4,
 "nbformat_minor": 5
}
